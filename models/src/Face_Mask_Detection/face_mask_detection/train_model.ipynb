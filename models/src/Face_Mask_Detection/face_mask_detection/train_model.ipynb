{
 "cells": [
  {
   "cell_type": "code",
   "execution_count": 1,
   "metadata": {},
   "outputs": [],
   "source": [
    "from tensorflow.keras.preprocessing.image import ImageDataGenerator\n",
    "from tensorflow.keras.applications import MobileNetV2\n",
    "from tensorflow.keras.layers import AveragePooling2D\n",
    "from tensorflow.keras.layers import Dropout\n",
    "from tensorflow.keras.layers import Flatten\n",
    "from tensorflow.keras.layers import Dense\n",
    "from tensorflow.keras.layers import Input\n",
    "from tensorflow.keras.models import Model\n",
    "from tensorflow.keras.optimizers import Adam\n",
    "from tensorflow.keras.applications.mobilenet_v2 import preprocess_input\n",
    "from tensorflow.keras.preprocessing.image import img_to_array\n",
    "from tensorflow.keras.preprocessing.image import load_img\n",
    "from tensorflow.keras.utils import to_categorical\n",
    "from sklearn.preprocessing import LabelBinarizer\n",
    "from sklearn.model_selection import train_test_split\n",
    "from sklearn.metrics import classification_report\n",
    "from imutils import paths\n",
    "import matplotlib.pyplot as plt\n",
    "import numpy as np\n",
    "import os\n"
   ]
  },
  {
   "cell_type": "code",
   "execution_count": 2,
   "metadata": {},
   "outputs": [],
   "source": [
    "INIT_LR = 1e-4\n",
    "EPOCHS = 20\n",
    "#20\n",
    "BS = 32"
   ]
  },
  {
   "cell_type": "code",
   "execution_count": 3,
   "metadata": {},
   "outputs": [],
   "source": [
    "import glob,os\n",
    "\n",
    "path = r'C:\\Users\\vutukuri.venkatesh\\Desktop\\stream_training\\material\\face-mask-detector\\face-mask-detector\\dataset\\with_mask'\n",
    "files = [f for f in glob.glob(path + \"*/*.JPG\", recursive=True)]\n",
    "\n",
    "path = r'C:\\Users\\vutukuri.venkatesh\\Desktop\\stream_training\\material\\face-mask-detector\\face-mask-detector\\dataset\\without_mask'\n",
    "files1 = [f for f in glob.glob(path + \"*/*.JPG\", recursive=True)]\n",
    "#print(files1)"
   ]
  },
  {
   "cell_type": "code",
   "execution_count": 4,
   "metadata": {},
   "outputs": [],
   "source": [
    "data = []\n",
    "labels = []"
   ]
  },
  {
   "cell_type": "code",
   "execution_count": 5,
   "metadata": {},
   "outputs": [],
   "source": [
    "for imagePath in files:\n",
    "\t# extract the class label from the filename\n",
    "\tlabel = imagePath.split(os.path.sep)[-2]\n",
    "\t# load the input image (224x224) and preprocess it\n",
    "\timage = load_img(imagePath, target_size=(224, 224))\n",
    "\timage = img_to_array(image)\n",
    "\timage = preprocess_input(image)\n",
    "\t# update the data and labels lists, respectively\n",
    "\tdata.append(image)\n",
    "\tlabels.append(label)\n",
    "\n",
    "for imagePath in files1:\n",
    "\t# extract the class label from the filename\n",
    "\tlabel = imagePath.split(os.path.sep)[-2]\n",
    "\t# load the input image (224x224) and preprocess it\n",
    "\timage = load_img(imagePath, target_size=(224, 224))\n",
    "\timage = img_to_array(image)\n",
    "\timage = preprocess_input(image)\n",
    "\t# update the data and labels lists, respectively\n",
    "\tdata.append(image)\n",
    "\tlabels.append(label)"
   ]
  },
  {
   "cell_type": "code",
   "execution_count": 6,
   "metadata": {},
   "outputs": [
    {
     "data": {
      "text/plain": [
       "array([[[-0.5529412 , -0.5058824 , -0.7254902 ],\n",
       "        [-0.6392157 , -0.5686275 , -0.78039217],\n",
       "        [-0.654902  , -0.5764706 , -0.7647059 ],\n",
       "        ...,\n",
       "        [-0.6862745 , -0.654902  , -0.7882353 ],\n",
       "        [-0.7647059 , -0.7176471 , -0.92156863],\n",
       "        [-0.7176471 , -0.6784314 , -0.85882354]],\n",
       "\n",
       "       [[-0.6       , -0.5529412 , -0.75686276],\n",
       "        [-0.64705884, -0.58431375, -0.77254903],\n",
       "        [-0.6392157 , -0.56078434, -0.7490196 ],\n",
       "        ...,\n",
       "        [-0.49019605, -0.4588235 , -0.5764706 ],\n",
       "        [-0.81960785, -0.75686276, -0.94509804],\n",
       "        [-0.70980394, -0.64705884, -0.8117647 ]],\n",
       "\n",
       "       [[-0.62352943, -0.5764706 , -0.78039217],\n",
       "        [-0.6392157 , -0.5764706 , -0.7647059 ],\n",
       "        [-0.62352943, -0.54509807, -0.73333335],\n",
       "        ...,\n",
       "        [-0.6       , -0.5529412 , -0.6627451 ],\n",
       "        [-0.827451  , -0.7647059 , -0.92941177],\n",
       "        [-0.7019608 , -0.6313726 , -0.78039217]],\n",
       "\n",
       "       ...,\n",
       "\n",
       "       [[-0.54509807, -0.42745095, -0.73333335],\n",
       "        [-0.54509807, -0.4352941 , -0.7176471 ],\n",
       "        [-0.54509807, -0.4588235 , -0.70980394],\n",
       "        ...,\n",
       "        [-0.8980392 , -0.92941177, -0.9372549 ],\n",
       "        [-0.88235295, -0.9137255 , -0.92156863],\n",
       "        [-0.8745098 , -0.92156863, -0.92156863]],\n",
       "\n",
       "       [[-0.5529412 , -0.4352941 , -0.75686276],\n",
       "        [-0.56078434, -0.45098037, -0.7254902 ],\n",
       "        [-0.5686275 , -0.4823529 , -0.7176471 ],\n",
       "        ...,\n",
       "        [-0.9137255 , -0.94509804, -0.9529412 ],\n",
       "        [-0.8666667 , -0.8980392 , -0.90588236],\n",
       "        [-0.85882354, -0.90588236, -0.90588236]],\n",
       "\n",
       "       [[-0.5921569 , -0.4588235 , -0.7882353 ],\n",
       "        [-0.6       , -0.49019605, -0.7647059 ],\n",
       "        [-0.62352943, -0.52156866, -0.7411765 ],\n",
       "        ...,\n",
       "        [-0.8666667 , -0.8980392 , -0.90588236],\n",
       "        [-0.8509804 , -0.8980392 , -0.8980392 ],\n",
       "        [-0.8352941 , -0.90588236, -0.8980392 ]]], dtype=float32)"
      ]
     },
     "execution_count": 6,
     "metadata": {},
     "output_type": "execute_result"
    }
   ],
   "source": [
    "data[0]"
   ]
  },
  {
   "cell_type": "code",
   "execution_count": 7,
   "metadata": {},
   "outputs": [],
   "source": [
    "data = np.array(data, dtype=\"float32\")\n",
    "labels = np.array(labels)"
   ]
  },
  {
   "cell_type": "code",
   "execution_count": 8,
   "metadata": {},
   "outputs": [],
   "source": [
    "lb = LabelBinarizer()\n",
    "labels = lb.fit_transform(labels)\n",
    "labels = to_categorical(labels)"
   ]
  },
  {
   "cell_type": "code",
   "execution_count": 9,
   "metadata": {},
   "outputs": [
    {
     "data": {
      "text/plain": [
       "array([[1., 0.],\n",
       "       [1., 0.],\n",
       "       [1., 0.],\n",
       "       ...,\n",
       "       [0., 1.],\n",
       "       [0., 1.],\n",
       "       [0., 1.]], dtype=float32)"
      ]
     },
     "execution_count": 9,
     "metadata": {},
     "output_type": "execute_result"
    }
   ],
   "source": [
    "labels"
   ]
  },
  {
   "cell_type": "code",
   "execution_count": 10,
   "metadata": {},
   "outputs": [],
   "source": [
    "(trainX, testX, trainY, testY) = train_test_split(data, labels,test_size=0.20, stratify=labels, random_state=42)"
   ]
  },
  {
   "cell_type": "code",
   "execution_count": 11,
   "metadata": {},
   "outputs": [],
   "source": [
    "aug = ImageDataGenerator(\n",
    "\trotation_range=20,\n",
    "\tzoom_range=0.15,\n",
    "\twidth_shift_range=0.2,\n",
    "\theight_shift_range=0.2,\n",
    "\tshear_range=0.15,\n",
    "\thorizontal_flip=True,\n",
    "\tfill_mode=\"nearest\")"
   ]
  },
  {
   "cell_type": "code",
   "execution_count": 12,
   "metadata": {},
   "outputs": [
    {
     "name": "stdout",
     "output_type": "stream",
     "text": [
      "WARNING:tensorflow:`input_shape` is undefined or non-square, or `rows` is not in [96, 128, 160, 192, 224]. Weights for input shape (224, 224) will be loaded as the default.\n"
     ]
    }
   ],
   "source": [
    "baseModel = MobileNetV2(weights=\"imagenet\", include_top=False,input_tensor=Input(shape=(224, 224, 3)))"
   ]
  },
  {
   "cell_type": "code",
   "execution_count": 13,
   "metadata": {},
   "outputs": [],
   "source": [
    "headModel = baseModel.output\n",
    "headModel = AveragePooling2D(pool_size=(7, 7))(headModel)\n",
    "headModel = Flatten(name=\"flatten\")(headModel)\n",
    "headModel = Dense(128, activation=\"relu\")(headModel)\n",
    "headModel = Dropout(0.5)(headModel)\n",
    "headModel = Dense(2, activation=\"softmax\")(headModel)"
   ]
  },
  {
   "cell_type": "code",
   "execution_count": 14,
   "metadata": {},
   "outputs": [],
   "source": [
    "model = Model(inputs=baseModel.input, outputs=headModel)"
   ]
  },
  {
   "cell_type": "code",
   "execution_count": 15,
   "metadata": {},
   "outputs": [],
   "source": [
    "for layer in baseModel.layers:\n",
    "\tlayer.trainable = False"
   ]
  },
  {
   "cell_type": "code",
   "execution_count": 16,
   "metadata": {},
   "outputs": [
    {
     "name": "stdout",
     "output_type": "stream",
     "text": [
      "[INFO] compiling model...\n"
     ]
    }
   ],
   "source": [
    "print(\"[INFO] compiling model...\")\n",
    "opt = Adam(lr=INIT_LR, decay=INIT_LR / EPOCHS)\n",
    "model.compile(loss=\"binary_crossentropy\", optimizer=opt,metrics=[\"accuracy\"])"
   ]
  },
  {
   "cell_type": "code",
   "execution_count": 17,
   "metadata": {},
   "outputs": [
    {
     "name": "stdout",
     "output_type": "stream",
     "text": [
      "Epoch 1/20\n",
      "34/34 [==============================] - 38s 1s/step - loss: 0.4566 - accuracy: 0.7753 - val_loss: 0.1359 - val_accuracy: 0.9710\n",
      "Epoch 2/20\n",
      "34/34 [==============================] - 37s 1s/step - loss: 0.1387 - accuracy: 0.9635 - val_loss: 0.0667 - val_accuracy: 0.9855\n",
      "Epoch 3/20\n",
      "34/34 [==============================] - 37s 1s/step - loss: 0.0750 - accuracy: 0.9850 - val_loss: 0.0467 - val_accuracy: 0.9855\n",
      "Epoch 4/20\n",
      "34/34 [==============================] - 35s 1s/step - loss: 0.0523 - accuracy: 0.9860 - val_loss: 0.0365 - val_accuracy: 0.9928\n",
      "Epoch 5/20\n",
      "34/34 [==============================] - 35s 1s/step - loss: 0.0385 - accuracy: 0.9925 - val_loss: 0.0317 - val_accuracy: 0.9928\n",
      "Epoch 6/20\n",
      "34/34 [==============================] - 33s 984ms/step - loss: 0.0410 - accuracy: 0.9869 - val_loss: 0.0253 - val_accuracy: 0.9964\n",
      "Epoch 7/20\n",
      "34/34 [==============================] - 34s 997ms/step - loss: 0.0343 - accuracy: 0.9897 - val_loss: 0.0222 - val_accuracy: 0.9964\n",
      "Epoch 8/20\n",
      "34/34 [==============================] - 34s 1s/step - loss: 0.0280 - accuracy: 0.9906 - val_loss: 0.0194 - val_accuracy: 0.9964\n",
      "Epoch 9/20\n",
      "34/34 [==============================] - 34s 997ms/step - loss: 0.0246 - accuracy: 0.9916 - val_loss: 0.0189 - val_accuracy: 0.9964\n",
      "Epoch 10/20\n",
      "34/34 [==============================] - 34s 1s/step - loss: 0.0189 - accuracy: 0.9963 - val_loss: 0.0160 - val_accuracy: 0.9964\n",
      "Epoch 11/20\n",
      "34/34 [==============================] - 34s 999ms/step - loss: 0.0179 - accuracy: 0.9963 - val_loss: 0.0145 - val_accuracy: 0.9964\n",
      "Epoch 12/20\n",
      "34/34 [==============================] - 34s 1s/step - loss: 0.0159 - accuracy: 0.9963 - val_loss: 0.0134 - val_accuracy: 0.9964\n",
      "Epoch 13/20\n",
      "34/34 [==============================] - 34s 993ms/step - loss: 0.0159 - accuracy: 0.9953 - val_loss: 0.0124 - val_accuracy: 1.0000\n",
      "Epoch 14/20\n",
      "34/34 [==============================] - 34s 992ms/step - loss: 0.0218 - accuracy: 0.9916 - val_loss: 0.0114 - val_accuracy: 1.0000\n",
      "Epoch 15/20\n",
      "34/34 [==============================] - 34s 1s/step - loss: 0.0083 - accuracy: 0.9991 - val_loss: 0.0103 - val_accuracy: 1.0000\n",
      "Epoch 16/20\n",
      "34/34 [==============================] - 34s 998ms/step - loss: 0.0120 - accuracy: 0.9963 - val_loss: 0.0101 - val_accuracy: 1.0000\n",
      "Epoch 17/20\n",
      "34/34 [==============================] - 34s 997ms/step - loss: 0.0056 - accuracy: 1.0000 - val_loss: 0.0096 - val_accuracy: 0.9964\n",
      "Epoch 18/20\n",
      "34/34 [==============================] - 34s 1s/step - loss: 0.0089 - accuracy: 0.9982 - val_loss: 0.0089 - val_accuracy: 1.0000\n",
      "Epoch 19/20\n",
      "34/34 [==============================] - 34s 1s/step - loss: 0.0068 - accuracy: 0.9981 - val_loss: 0.0086 - val_accuracy: 1.0000\n",
      "Epoch 20/20\n",
      "34/34 [==============================] - 34s 1s/step - loss: 0.0075 - accuracy: 0.9981 - val_loss: 0.0084 - val_accuracy: 1.0000\n"
     ]
    }
   ],
   "source": [
    "H = model.fit(\n",
    "\taug.flow(trainX, trainY, batch_size=BS),\n",
    "\tsteps_per_epoch=len(trainX) // BS,\n",
    "\tvalidation_data=(testX, testY),\n",
    "\tvalidation_steps=len(testX) // BS,\n",
    "\tepochs=EPOCHS)"
   ]
  },
  {
   "cell_type": "code",
   "execution_count": 18,
   "metadata": {},
   "outputs": [
    {
     "name": "stdout",
     "output_type": "stream",
     "text": [
      "[INFO] evaluating network...\n",
      "              precision    recall  f1-score   support\n",
      "\n",
      "   with_mask       1.00      1.00      1.00       138\n",
      "without_mask       1.00      1.00      1.00       138\n",
      "\n",
      "    accuracy                           1.00       276\n",
      "   macro avg       1.00      1.00      1.00       276\n",
      "weighted avg       1.00      1.00      1.00       276\n",
      "\n"
     ]
    }
   ],
   "source": [
    "print(\"[INFO] evaluating network...\")\n",
    "predIdxs = model.predict(testX, batch_size=BS)\n",
    "# for each image in the testing set we need to find the index of the\n",
    "# label with corresponding largest predicted probability\n",
    "predIdxs = np.argmax(predIdxs, axis=1)\n",
    "# show a nicely formatted classification report\n",
    "print(classification_report(testY.argmax(axis=1), predIdxs,target_names=lb.classes_))"
   ]
  },
  {
   "cell_type": "code",
   "execution_count": 19,
   "metadata": {},
   "outputs": [
    {
     "name": "stdout",
     "output_type": "stream",
     "text": [
      "WARNING:tensorflow:From C:\\Users\\vutukuri.venkatesh\\AppData\\Local\\Continuum\\anaconda3\\lib\\site-packages\\tensorflow\\python\\training\\tracking\\tracking.py:111: Model.state_updates (from tensorflow.python.keras.engine.training) is deprecated and will be removed in a future version.\n",
      "Instructions for updating:\n",
      "This property should not be used in TensorFlow 2.0, as updates are applied automatically.\n",
      "WARNING:tensorflow:From C:\\Users\\vutukuri.venkatesh\\AppData\\Local\\Continuum\\anaconda3\\lib\\site-packages\\tensorflow\\python\\training\\tracking\\tracking.py:111: Layer.updates (from tensorflow.python.keras.engine.base_layer) is deprecated and will be removed in a future version.\n",
      "Instructions for updating:\n",
      "This property should not be used in TensorFlow 2.0, as updates are applied automatically.\n",
      "INFO:tensorflow:Assets written to: final_model1.pkl\\assets\n"
     ]
    }
   ],
   "source": [
    "model.save(\"final_model1.pkl\")"
   ]
  },
  {
   "cell_type": "markdown",
   "metadata": {},
   "source": [
    "## For Video Streaming"
   ]
  },
  {
   "cell_type": "code",
   "execution_count": null,
   "metadata": {},
   "outputs": [],
   "source": [
    "# from tensorflow.keras.applications.mobilenet_v2 import preprocess_input\n",
    "# from tensorflow.keras.preprocessing.image import img_to_array\n",
    "# from imutils.video import VideoStream\n",
    "# import numpy as np\n",
    "# import imutils\n",
    "# import time\n",
    "# import cv2\n",
    "# import os"
   ]
  },
  {
   "cell_type": "code",
   "execution_count": null,
   "metadata": {},
   "outputs": [],
   "source": [
    "# def detect_and_predict_mask(frame, faceNet, maskNet):\n",
    "# \t# grab the dimensions of the frame and then construct a blob\n",
    "# \t# from it\n",
    "# \t(h, w) = frame.shape[:2]\n",
    "# \tblob = cv2.dnn.blobFromImage(frame, 1.0, (300, 300),\n",
    "# \t\t(104.0, 177.0, 123.0))\n",
    "\n",
    "# \t# pass the blob through the network and obtain the face detections\n",
    "# \tfaceNet.setInput(blob)\n",
    "# \tdetections = faceNet.forward()\n",
    "\n",
    "# \t# initialize our list of faces, their corresponding locations,\n",
    "# \t# and the list of predictions from our face mask network\n",
    "# \tfaces = []\n",
    "# \tlocs = []\n",
    "# \tpreds = []\n",
    "\n",
    "# \t# loop over the detections\n",
    "# \tfor i in range(0, detections.shape[2]):\n",
    "# \t\t# extract the confidence (i.e., probability) associated with\n",
    "# \t\t# the detection\n",
    "# \t\tconfidence = detections[0, 0, i, 2]\n",
    "\n",
    "# \t\t# filter out weak detections by ensuring the confidence is\n",
    "# \t\t# greater than the minimum confidence\n",
    "# \t\tif confidence > 0.5:\n",
    "# \t\t\t# compute the (x, y)-coordinates of the bounding box for\n",
    "# \t\t\t# the object\n",
    "# \t\t\tbox = detections[0, 0, i, 3:7] * np.array([w, h, w, h])\n",
    "# \t\t\t(startX, startY, endX, endY) = box.astype(\"int\")\n",
    "\n",
    "# \t\t\t# ensure the bounding boxes fall within the dimensions of\n",
    "# \t\t\t# the frame\n",
    "# \t\t\t(startX, startY) = (max(0, startX), max(0, startY))\n",
    "# \t\t\t(endX, endY) = (min(w - 1, endX), min(h - 1, endY))\n",
    "\n",
    "# \t\t\t# extract the face ROI, convert it from BGR to RGB channel\n",
    "# \t\t\t# ordering, resize it to 224x224, and preprocess it\n",
    "# \t\t\tface = frame[startY:endY, startX:endX]\n",
    "# \t\t\tface = cv2.cvtColor(face, cv2.COLOR_BGR2RGB)\n",
    "# \t\t\tface = cv2.resize(face, (224, 224))\n",
    "# \t\t\tface = img_to_array(face)\n",
    "# \t\t\tface = preprocess_input(face)\n",
    "\n",
    "# \t\t\t# add the face and bounding boxes to their respective\n",
    "# \t\t\t# lists\n",
    "# \t\t\tfaces.append(face)\n",
    "# \t\t\tlocs.append((startX, startY, endX, endY))\n",
    "\n",
    "# \t# only make a predictions if at least one face was detected\n",
    "# \tif len(faces) > 0:\n",
    "# \t\t# for faster inference we'll make batch predictions on *all*\n",
    "# \t\t# faces at the same time rather than one-by-one predictions\n",
    "# \t\t# in the above `for` loop\n",
    "# \t\tfaces = np.array(faces, dtype=\"float32\")\n",
    "# \t\tpreds = maskNet.predict(faces, batch_size=32)\n",
    "\n",
    "# \t# return a 2-tuple of the face locations and their corresponding\n",
    "# \t# locations\n",
    "# \treturn (locs, preds)"
   ]
  },
  {
   "cell_type": "code",
   "execution_count": null,
   "metadata": {},
   "outputs": [],
   "source": [
    "# prototxtPath =  r'C:\\Users\\vutukuri.venkatesh\\Desktop\\stream_training\\material\\face-mask-detector\\face-mask-detector\\face_detector\\deploy.prototxt.'\n",
    "# weightsPath = r'C:\\Users\\vutukuri.venkatesh\\Desktop\\stream_training\\material\\face-mask-detector\\face-mask-detector\\face_detector\\res10_300x300_ssd_iter_140000.caffemodel'\n",
    "# faceNet = cv2.dnn.readNet(prototxtPath, weightsPath)"
   ]
  },
  {
   "cell_type": "code",
   "execution_count": null,
   "metadata": {},
   "outputs": [],
   "source": [
    "# print(\"[INFO] starting video stream...\")\n",
    "# vs = VideoStream(src=0).start()\n",
    "# time.sleep(2.0)\n",
    "# while True:\n",
    "# \t# grab the frame from the threaded video stream and resize it\n",
    "# \t# to have a maximum width of 400 pixels\n",
    "# \tframe = vs.read()\n",
    "# \tframe = imutils.resize(frame, width=400)\n",
    "# \tmaskNet=model\n",
    "# \t# face mask or not\n",
    "# \t(locs, preds) = detect_and_predict_mask(frame, faceNet, maskNet)\n",
    "\n",
    "# \t# loop over the detected face locations and their corresponding\n",
    "# \t# locations\n",
    "# \tfor (box, pred) in zip(locs, preds):\n",
    "# \t\t# unpack the bounding box and predictions\n",
    "# \t\t(startX, startY, endX, endY) = box\n",
    "# \t\t(mask, withoutMask) = pred\n",
    "\n",
    "# \t\t# determine the class label and color we'll use to draw\n",
    "# \t\t# the bounding box and text\n",
    "# \t\tlabel = \"Mask\" if mask > withoutMask else \"No Mask\"\n",
    "# \t\tcolor = (0, 255, 0) if label == \"Mask\" else (0, 0, 255)\n",
    "\n",
    "# \t\t# include the probability in the label\n",
    "# \t\tlabel = \"{}: {:.2f}%\".format(label, max(mask, withoutMask) * 100)\n",
    "\n",
    "# \t\t# display the label and bounding box rectangle on the output\n",
    "# \t\t# frame\n",
    "# \t\tcv2.putText(frame, label, (startX, startY - 10),\n",
    "# \t\t\tcv2.FONT_HERSHEY_SIMPLEX, 0.45, color, 2)\n",
    "# \t\tcv2.rectangle(frame, (startX, startY), (endX, endY), color, 2)\n",
    "\n",
    "# \t# show the output frame\n",
    "# \tcv2.imshow(\"Frame\", frame)\n",
    "# \tkey = cv2.waitKey(1) & 0xFF\n",
    "\n",
    "# \t# if the `q` key was pressed, break from the loop\n",
    "# \tif key == ord(\"q\"):\n",
    "# \t\tvs.stream.release()\n",
    "# \t\tbreak\n",
    "\n",
    "# # do a bit of cleanup\n",
    "# cv2.destroyAllWindows()\n",
    "# vs.stop()"
   ]
  },
  {
   "cell_type": "code",
   "execution_count": null,
   "metadata": {},
   "outputs": [],
   "source": []
  },
  {
   "cell_type": "code",
   "execution_count": null,
   "metadata": {},
   "outputs": [],
   "source": []
  },
  {
   "cell_type": "code",
   "execution_count": null,
   "metadata": {},
   "outputs": [],
   "source": []
  },
  {
   "cell_type": "code",
   "execution_count": null,
   "metadata": {},
   "outputs": [],
   "source": []
  },
  {
   "cell_type": "code",
   "execution_count": null,
   "metadata": {},
   "outputs": [],
   "source": []
  },
  {
   "cell_type": "code",
   "execution_count": null,
   "metadata": {},
   "outputs": [],
   "source": []
  },
  {
   "cell_type": "code",
   "execution_count": null,
   "metadata": {},
   "outputs": [],
   "source": []
  },
  {
   "cell_type": "code",
   "execution_count": null,
   "metadata": {},
   "outputs": [],
   "source": []
  },
  {
   "cell_type": "code",
   "execution_count": null,
   "metadata": {},
   "outputs": [],
   "source": []
  },
  {
   "cell_type": "markdown",
   "metadata": {},
   "source": [
    "## checking for a image"
   ]
  },
  {
   "cell_type": "code",
   "execution_count": null,
   "metadata": {},
   "outputs": [],
   "source": [
    "# from tensorflow.keras.applications.mobilenet_v2 import preprocess_input\n",
    "# from tensorflow.keras.preprocessing.image import img_to_array\n",
    "# import numpy as np\n",
    "# import cv2\n",
    "# import os\n",
    "\n",
    "# print(\"[INFO] loading face detector model...\")\n",
    "# prototxtPath =  r'C:\\Users\\vutukuri.venkatesh\\Desktop\\stream_training\\material\\face-mask-detector\\face-mask-detector\\face_detector\\deploy.prototxt.'\n",
    "# weightsPath = r'C:\\Users\\vutukuri.venkatesh\\Desktop\\stream_training\\material\\face-mask-detector\\face-mask-detector\\face_detector\\res10_300x300_ssd_iter_140000.caffemodel'\n",
    "# net = cv2.dnn.readNet(prototxtPath, weightsPath)\n"
   ]
  },
  {
   "cell_type": "code",
   "execution_count": null,
   "metadata": {},
   "outputs": [],
   "source": [
    "# file3 = r'C:\\Users\\vutukuri.venkatesh\\Desktop\\stream_training\\material\\face-mask-detector\\face-mask-detector\\examples\\example_01.PNG'\n",
    "# image = cv2.imread(file3)\n",
    "# orig = image.copy()\n",
    "# (h, w) = image.shape[:2]\n",
    "# # construct a blob from the image\n",
    "# blob = cv2.dnn.blobFromImage(image, 1.0, (300, 300),(104.0, 177.0, 123.0))\n",
    "# # pass the blob through the network and obtain the face detections\n",
    "# print(\"[INFO] computing face detections...\")\n",
    "# net.setInput(blob)\n",
    "# detections = net.forward()"
   ]
  },
  {
   "cell_type": "code",
   "execution_count": null,
   "metadata": {},
   "outputs": [],
   "source": [
    "# for i in range(0, detections.shape[2]):\n",
    "# \t# extract the confidence (i.e., probability) associated with\n",
    "# \t# the detection\n",
    "# \tconfidence = detections[0, 0, i, 2]\n",
    "# \t# filter out weak detections by ensuring the confidence is\n",
    "# \t# greater than the minimum confidence\n",
    "# \tif confidence > 0.5:\n",
    "# \t\t# compute the (x, y)-coordinates of the bounding box for\n",
    "# \t\t# the object\n",
    "# \t\tbox = detections[0, 0, i, 3:7] * np.array([w, h, w, h])\n",
    "# \t\t(startX, startY, endX, endY) = box.astype(\"int\")\n",
    "# \t\t# ensure the bounding boxes fall within the dimensions of\n",
    "# \t\t# the frame\n",
    "# \t\t(startX, startY) = (max(0, startX), max(0, startY))\n",
    "# \t\t(endX, endY) = (min(w - 1, endX), min(h - 1, endY))"
   ]
  },
  {
   "cell_type": "code",
   "execution_count": null,
   "metadata": {},
   "outputs": [],
   "source": [
    "# \t\tface = image[startY:endY, startX:endX]\n",
    "# \t\tface = cv2.cvtColor(face, cv2.COLOR_BGR2RGB)\n",
    "# \t\tface = cv2.resize(face, (224, 224))\n",
    "# \t\tface = img_to_array(face)\n",
    "# \t\tface = preprocess_input(face)\n",
    "# \t\tface = np.expand_dims(face, axis=0)\n",
    "# \t\t# pass the face through the model to determine if the face\n",
    "# \t\t# has a mask or not\n",
    "# \t\t(mask, withoutMask) = model.predict(face)[0]"
   ]
  },
  {
   "cell_type": "code",
   "execution_count": null,
   "metadata": {},
   "outputs": [],
   "source": [
    "# \t\tlabel = \"Mask\" if mask > withoutMask else \"No Mask\"\n",
    "# \t\tcolor = (0, 255, 0) if label == \"Mask\" else (0, 0, 255)\n",
    "# \t\t# include the probability in the label\n",
    "# \t\tlabel = \"{}: {:.2f}%\".format(label, max(mask, withoutMask) * 100)\n",
    "# \t\t# display the label and bounding box rectangle on the output\n",
    "# \t\t# frame\n",
    "# \t\tcv2.putText(image, label, (startX, startY - 10),\n",
    "# \t\t\tcv2.FONT_HERSHEY_SIMPLEX, 0.45, color, 2)\n",
    "# \t\tcv2.rectangle(image, (startX, startY), (endX, endY), color, 2)\n",
    "# # show the output image\n",
    "# cv2.imshow(\"Output\", image)\n",
    "# cv2.waitKey(0)"
   ]
  },
  {
   "cell_type": "code",
   "execution_count": null,
   "metadata": {},
   "outputs": [],
   "source": []
  },
  {
   "cell_type": "code",
   "execution_count": null,
   "metadata": {},
   "outputs": [],
   "source": []
  }
 ],
 "metadata": {
  "kernelspec": {
   "display_name": "Python 3",
   "language": "python",
   "name": "python3"
  },
  "language_info": {
   "codemirror_mode": {
    "name": "ipython",
    "version": 3
   },
   "file_extension": ".py",
   "mimetype": "text/x-python",
   "name": "python",
   "nbconvert_exporter": "python",
   "pygments_lexer": "ipython3",
   "version": "3.7.4"
  }
 },
 "nbformat": 4,
 "nbformat_minor": 2
}
